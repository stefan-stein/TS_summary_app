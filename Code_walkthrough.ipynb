{
 "cells": [
  {
   "cell_type": "markdown",
   "metadata": {},
   "source": [
    "# Trying out Spacy"
   ]
  },
  {
   "cell_type": "code",
   "execution_count": 1,
   "metadata": {},
   "outputs": [],
   "source": [
    "import spacy\n",
    "# Pkgs for Normalizing Text\n",
    "from spacy.lang.en.stop_words import STOP_WORDS\n",
    "from string import punctuation\n",
    "# Import Heapq for Finding the Top N Sentences\n",
    "from heapq import nlargest"
   ]
  },
  {
   "cell_type": "code",
   "execution_count": 2,
   "metadata": {},
   "outputs": [],
   "source": [
    "nlp = spacy.load('en_core_web_sm')"
   ]
  },
  {
   "cell_type": "code",
   "execution_count": 5,
   "metadata": {},
   "outputs": [],
   "source": [
    "# First few paragraphs from this BBC article: https://www.bbc.com/news/election-us-2020-55134022\n",
    "raw_text = \"\"\"As the Trump White House reaches its final days, an eerie quiet has descended on the premises as attempts to challenge the election result founder in the courts. Brian Morgenstern, the deputy communications director, was wearing a jacket with a White House emblem in his office in the West Wing. The jacket was zipped all the way up, as if he were on his way out. The room, a few doors away from the Oval Office, was dark, with the shades drawn. His boss, the president, was in another part of the White House. In that moment, Donald Trump was on speaker phone with Rudy Giuliani, the head of his legal effort to challenge the election, and a group of state lawmakers who had gathered for a \"hearing\", as they put it, at a hotel in Gettysburg, Pennsylvania. \"This election was rigged and we can't let that happen,\" the president said on the phone. Morgenstern was monitoring the event on his computer screen, in a distracted manner. A moment later he swivelled in his chair and spoke to a visitor about college, real estate, baseball, and, almost as an afterthought, the president's achievements. Trump's effort to contest the election results in Pennsylvania failed on Friday, not long after the so-called hearing, and even that had a shaky legal foundation. An appeals court judge said there was \"no basis\" for his challenge. A certification of ballots showed President-elect Joe Biden won the state by more than 80,000 votes. Being with Trump the day he lost the election The votes in Arizona were certified on Monday and in Wisconsin that could happen soon - both states Biden won. Government officials have started working towards a transition to the new administration, and the new president starts on 20 January.\"\"\""
   ]
  },
  {
   "cell_type": "code",
   "execution_count": 6,
   "metadata": {},
   "outputs": [
    {
     "data": {
      "text/plain": [
       "'As the Trump White House reaches its final days, an eerie quiet has descended on the premises as attempts to challenge the election result founder in the courts. Brian Morgenstern, the deputy communications director, was wearing a jacket with a White House emblem in his office in the West Wing. The jacket was zipped all the way up, as if he were on his way out. The room, a few doors away from the Oval Office, was dark, with the shades drawn. His boss, the president, was in another part of the White House. In that moment, Donald Trump was on speaker phone with Rudy Giuliani, the head of his legal effort to challenge the election, and a group of state lawmakers who had gathered for a \"hearing\", as they put it, at a hotel in Gettysburg, Pennsylvania. \"This election was rigged and we can\\'t let that happen,\" the president said on the phone. Morgenstern was monitoring the event on his computer screen, in a distracted manner. A moment later he swivelled in his chair and spoke to a visitor about college, real estate, baseball, and, almost as an afterthought, the president\\'s achievements. Trump\\'s effort to contest the election results in Pennsylvania failed on Friday, not long after the so-called hearing, and even that had a shaky legal foundation. An appeals court judge said there was \"no basis\" for his challenge. A certification of ballots showed President-elect Joe Biden won the state by more than 80,000 votes. Being with Trump the day he lost the election The votes in Arizona were certified on Monday and in Wisconsin that could happen soon - both states Biden won. Government officials have started working towards a transition to the new administration, and the new president starts on 20 January.'"
      ]
     },
     "execution_count": 6,
     "metadata": {},
     "output_type": "execute_result"
    }
   ],
   "source": [
    "raw_text"
   ]
  },
  {
   "cell_type": "code",
   "execution_count": 7,
   "metadata": {},
   "outputs": [
    {
     "data": {
      "text/plain": [
       "As the Trump White House reaches its final days, an eerie quiet has descended on the premises as attempts to challenge the election result founder in the courts. Brian Morgenstern, the deputy communications director, was wearing a jacket with a White House emblem in his office in the West Wing. The jacket was zipped all the way up, as if he were on his way out. The room, a few doors away from the Oval Office, was dark, with the shades drawn. His boss, the president, was in another part of the White House. In that moment, Donald Trump was on speaker phone with Rudy Giuliani, the head of his legal effort to challenge the election, and a group of state lawmakers who had gathered for a \"hearing\", as they put it, at a hotel in Gettysburg, Pennsylvania. \"This election was rigged and we can't let that happen,\" the president said on the phone. Morgenstern was monitoring the event on his computer screen, in a distracted manner. A moment later he swivelled in his chair and spoke to a visitor about college, real estate, baseball, and, almost as an afterthought, the president's achievements. Trump's effort to contest the election results in Pennsylvania failed on Friday, not long after the so-called hearing, and even that had a shaky legal foundation. An appeals court judge said there was \"no basis\" for his challenge. A certification of ballots showed President-elect Joe Biden won the state by more than 80,000 votes. Being with Trump the day he lost the election The votes in Arizona were certified on Monday and in Wisconsin that could happen soon - both states Biden won. Government officials have started working towards a transition to the new administration, and the new president starts on 20 January."
      ]
     },
     "execution_count": 7,
     "metadata": {},
     "output_type": "execute_result"
    }
   ],
   "source": [
    "docx = nlp(raw_text)\n",
    "docx"
   ]
  },
  {
   "cell_type": "code",
   "execution_count": 16,
   "metadata": {},
   "outputs": [
    {
     "name": "stdout",
     "output_type": "stream",
     "text": [
      "As the Trump White House reaches its final days, an eerie quiet has descended on the premises as attempts to challenge the election result founder in the courts.\n",
      "Brian Morgenstern, the deputy communications director, was wearing a jacket with a White House emblem in his office in the West Wing.\n",
      "The jacket was zipped all the way up, as if he were on his way out.\n",
      "The room, a few doors away from the Oval Office, was dark, with the shades drawn.\n",
      "His boss, the president, was in another part of the White House.\n",
      "In that moment, Donald Trump was on speaker phone with Rudy Giuliani, the head of his legal effort to challenge the election, and a group of state lawmakers who had gathered for a \"hearing\", as they put it, at a hotel in Gettysburg, Pennsylvania.\n",
      "\"This election was rigged and we can't let that happen,\" the president said on the phone.\n",
      "Morgenstern was monitoring the event on his computer screen, in a distracted manner.\n",
      "A moment later he swivelled in his chair and spoke to a visitor about college, real estate, baseball, and, almost as an afterthought, the president's achievements.\n",
      "Trump's effort to contest the election results in Pennsylvania failed on Friday, not long after the so-called hearing, and even that had a shaky legal foundation.\n",
      "An appeals court judge said there was \"no basis\" for his challenge.\n",
      "A certification of ballots showed President-elect Joe Biden won the state by more than 80,000 votes.\n",
      "Being with Trump the day he lost the election\n",
      "The votes in Arizona were certified on Monday and in Wisconsin that could happen soon - both states Biden won.\n",
      "Government officials have started working towards a transition to the new administration, and the new president starts on 20 January.\n"
     ]
    }
   ],
   "source": [
    "for sentence in docx.sents:\n",
    "    print(sentence)"
   ]
  },
  {
   "cell_type": "code",
   "execution_count": 11,
   "metadata": {},
   "outputs": [
    {
     "data": {
      "text/plain": [
       "['thereupon',\n",
       " 'otherwise',\n",
       " 'after',\n",
       " 'beyond',\n",
       " 'cannot',\n",
       " 'in',\n",
       " 'give',\n",
       " 'ourselves',\n",
       " 'less',\n",
       " 'just',\n",
       " '’ve',\n",
       " 'very',\n",
       " 'onto',\n",
       " 'same',\n",
       " 'was',\n",
       " 'nine',\n",
       " \"'ll\",\n",
       " 'least',\n",
       " 're',\n",
       " 'quite']"
      ]
     },
     "execution_count": 11,
     "metadata": {},
     "output_type": "execute_result"
    }
   ],
   "source": [
    "stopwords = list(STOP_WORDS)\n",
    "stopwords[:20]"
   ]
  },
  {
   "cell_type": "code",
   "execution_count": 12,
   "metadata": {},
   "outputs": [],
   "source": [
    "word_frequencies = {}  \n",
    "for word in docx:  \n",
    "    if word.text not in stopwords:\n",
    "        if word.text not in word_frequencies.keys():\n",
    "            word_frequencies[word.text] = 1\n",
    "        else:\n",
    "            word_frequencies[word.text] += 1\n"
   ]
  },
  {
   "cell_type": "code",
   "execution_count": 13,
   "metadata": {},
   "outputs": [
    {
     "data": {
      "text/plain": [
       "{'As': 1,\n",
       " 'Trump': 4,\n",
       " 'White': 3,\n",
       " 'House': 3,\n",
       " 'reaches': 1,\n",
       " 'final': 1,\n",
       " 'days': 1,\n",
       " ',': 25,\n",
       " 'eerie': 1,\n",
       " 'quiet': 1,\n",
       " 'descended': 1,\n",
       " 'premises': 1,\n",
       " 'attempts': 1,\n",
       " 'challenge': 3,\n",
       " 'election': 5,\n",
       " 'result': 1,\n",
       " 'founder': 1,\n",
       " 'courts': 1,\n",
       " '.': 14,\n",
       " 'Brian': 1,\n",
       " 'Morgenstern': 2,\n",
       " 'deputy': 1,\n",
       " 'communications': 1,\n",
       " 'director': 1,\n",
       " 'wearing': 1,\n",
       " 'jacket': 2,\n",
       " 'emblem': 1,\n",
       " 'office': 1,\n",
       " 'West': 1,\n",
       " 'Wing': 1,\n",
       " 'The': 3,\n",
       " 'zipped': 1,\n",
       " 'way': 2,\n",
       " 'room': 1,\n",
       " 'doors': 1,\n",
       " 'away': 1,\n",
       " 'Oval': 1,\n",
       " 'Office': 1,\n",
       " 'dark': 1,\n",
       " 'shades': 1,\n",
       " 'drawn': 1,\n",
       " 'His': 1,\n",
       " 'boss': 1,\n",
       " 'president': 4,\n",
       " 'In': 1,\n",
       " 'moment': 2,\n",
       " 'Donald': 1,\n",
       " 'speaker': 1,\n",
       " 'phone': 2,\n",
       " 'Rudy': 1,\n",
       " 'Giuliani': 1,\n",
       " 'head': 1,\n",
       " 'legal': 2,\n",
       " 'effort': 2,\n",
       " 'group': 1,\n",
       " 'state': 2,\n",
       " 'lawmakers': 1,\n",
       " 'gathered': 1,\n",
       " '\"': 6,\n",
       " 'hearing': 2,\n",
       " 'hotel': 1,\n",
       " 'Gettysburg': 1,\n",
       " 'Pennsylvania': 2,\n",
       " 'This': 1,\n",
       " 'rigged': 1,\n",
       " 'let': 1,\n",
       " 'happen': 2,\n",
       " 'said': 2,\n",
       " 'monitoring': 1,\n",
       " 'event': 1,\n",
       " 'computer': 1,\n",
       " 'screen': 1,\n",
       " 'distracted': 1,\n",
       " 'manner': 1,\n",
       " 'A': 2,\n",
       " 'later': 1,\n",
       " 'swivelled': 1,\n",
       " 'chair': 1,\n",
       " 'spoke': 1,\n",
       " 'visitor': 1,\n",
       " 'college': 1,\n",
       " 'real': 1,\n",
       " 'estate': 1,\n",
       " 'baseball': 1,\n",
       " 'afterthought': 1,\n",
       " 'achievements': 1,\n",
       " 'contest': 1,\n",
       " 'results': 1,\n",
       " 'failed': 1,\n",
       " 'Friday': 1,\n",
       " 'long': 1,\n",
       " '-': 3,\n",
       " 'called': 1,\n",
       " 'shaky': 1,\n",
       " 'foundation': 1,\n",
       " 'An': 1,\n",
       " 'appeals': 1,\n",
       " 'court': 1,\n",
       " 'judge': 1,\n",
       " 'basis': 1,\n",
       " 'certification': 1,\n",
       " 'ballots': 1,\n",
       " 'showed': 1,\n",
       " 'President': 1,\n",
       " 'elect': 1,\n",
       " 'Joe': 1,\n",
       " 'Biden': 2,\n",
       " 'won': 2,\n",
       " '80,000': 1,\n",
       " 'votes': 2,\n",
       " 'Being': 1,\n",
       " 'day': 1,\n",
       " 'lost': 1,\n",
       " 'Arizona': 1,\n",
       " 'certified': 1,\n",
       " 'Monday': 1,\n",
       " 'Wisconsin': 1,\n",
       " 'soon': 1,\n",
       " 'states': 1,\n",
       " 'Government': 1,\n",
       " 'officials': 1,\n",
       " 'started': 1,\n",
       " 'working': 1,\n",
       " 'transition': 1,\n",
       " 'new': 2,\n",
       " 'administration': 1,\n",
       " 'starts': 1,\n",
       " '20': 1,\n",
       " 'January': 1}"
      ]
     },
     "execution_count": 13,
     "metadata": {},
     "output_type": "execute_result"
    }
   ],
   "source": [
    "word_frequencies"
   ]
  },
  {
   "cell_type": "code",
   "execution_count": 14,
   "metadata": {},
   "outputs": [],
   "source": [
    "maximum_frequncy = max(word_frequencies.values())"
   ]
  },
  {
   "cell_type": "code",
   "execution_count": 18,
   "metadata": {},
   "outputs": [],
   "source": [
    "for word in word_frequencies.keys():  \n",
    "        word_frequencies[word] = (word_frequencies[word]/maximum_frequncy)"
   ]
  },
  {
   "cell_type": "code",
   "execution_count": 21,
   "metadata": {},
   "outputs": [
    {
     "data": {
      "text/plain": [
       "{'As': 0.04,\n",
       " 'Trump': 0.16,\n",
       " 'White': 0.12,\n",
       " 'House': 0.12,\n",
       " 'reaches': 0.04,\n",
       " 'final': 0.04,\n",
       " 'days': 0.04,\n",
       " ',': 1.0,\n",
       " 'eerie': 0.04,\n",
       " 'quiet': 0.04,\n",
       " 'descended': 0.04,\n",
       " 'premises': 0.04,\n",
       " 'attempts': 0.04,\n",
       " 'challenge': 0.12,\n",
       " 'election': 0.2,\n",
       " 'result': 0.04,\n",
       " 'founder': 0.04,\n",
       " 'courts': 0.04,\n",
       " '.': 0.56,\n",
       " 'Brian': 0.04,\n",
       " 'Morgenstern': 0.08,\n",
       " 'deputy': 0.04,\n",
       " 'communications': 0.04,\n",
       " 'director': 0.04,\n",
       " 'wearing': 0.04,\n",
       " 'jacket': 0.08,\n",
       " 'emblem': 0.04,\n",
       " 'office': 0.04,\n",
       " 'West': 0.04,\n",
       " 'Wing': 0.04,\n",
       " 'The': 0.12,\n",
       " 'zipped': 0.04,\n",
       " 'way': 0.08,\n",
       " 'room': 0.04,\n",
       " 'doors': 0.04,\n",
       " 'away': 0.04,\n",
       " 'Oval': 0.04,\n",
       " 'Office': 0.04,\n",
       " 'dark': 0.04,\n",
       " 'shades': 0.04,\n",
       " 'drawn': 0.04,\n",
       " 'His': 0.04,\n",
       " 'boss': 0.04,\n",
       " 'president': 0.16,\n",
       " 'In': 0.04,\n",
       " 'moment': 0.08,\n",
       " 'Donald': 0.04,\n",
       " 'speaker': 0.04,\n",
       " 'phone': 0.08,\n",
       " 'Rudy': 0.04,\n",
       " 'Giuliani': 0.04,\n",
       " 'head': 0.04,\n",
       " 'legal': 0.08,\n",
       " 'effort': 0.08,\n",
       " 'group': 0.04,\n",
       " 'state': 0.08,\n",
       " 'lawmakers': 0.04,\n",
       " 'gathered': 0.04,\n",
       " '\"': 0.24,\n",
       " 'hearing': 0.08,\n",
       " 'hotel': 0.04,\n",
       " 'Gettysburg': 0.04,\n",
       " 'Pennsylvania': 0.08,\n",
       " 'This': 0.04,\n",
       " 'rigged': 0.04,\n",
       " 'let': 0.04,\n",
       " 'happen': 0.08,\n",
       " 'said': 0.08,\n",
       " 'monitoring': 0.04,\n",
       " 'event': 0.04,\n",
       " 'computer': 0.04,\n",
       " 'screen': 0.04,\n",
       " 'distracted': 0.04,\n",
       " 'manner': 0.04,\n",
       " 'A': 0.08,\n",
       " 'later': 0.04,\n",
       " 'swivelled': 0.04,\n",
       " 'chair': 0.04,\n",
       " 'spoke': 0.04,\n",
       " 'visitor': 0.04,\n",
       " 'college': 0.04,\n",
       " 'real': 0.04,\n",
       " 'estate': 0.04,\n",
       " 'baseball': 0.04,\n",
       " 'afterthought': 0.04,\n",
       " 'achievements': 0.04,\n",
       " 'contest': 0.04,\n",
       " 'results': 0.04,\n",
       " 'failed': 0.04,\n",
       " 'Friday': 0.04,\n",
       " 'long': 0.04,\n",
       " '-': 0.12,\n",
       " 'called': 0.04,\n",
       " 'shaky': 0.04,\n",
       " 'foundation': 0.04,\n",
       " 'An': 0.04,\n",
       " 'appeals': 0.04,\n",
       " 'court': 0.04,\n",
       " 'judge': 0.04,\n",
       " 'basis': 0.04,\n",
       " 'certification': 0.04,\n",
       " 'ballots': 0.04,\n",
       " 'showed': 0.04,\n",
       " 'President': 0.04,\n",
       " 'elect': 0.04,\n",
       " 'Joe': 0.04,\n",
       " 'Biden': 0.08,\n",
       " 'won': 0.08,\n",
       " '80,000': 0.04,\n",
       " 'votes': 0.08,\n",
       " 'Being': 0.04,\n",
       " 'day': 0.04,\n",
       " 'lost': 0.04,\n",
       " 'Arizona': 0.04,\n",
       " 'certified': 0.04,\n",
       " 'Monday': 0.04,\n",
       " 'Wisconsin': 0.04,\n",
       " 'soon': 0.04,\n",
       " 'states': 0.04,\n",
       " 'Government': 0.04,\n",
       " 'officials': 0.04,\n",
       " 'started': 0.04,\n",
       " 'working': 0.04,\n",
       " 'transition': 0.04,\n",
       " 'new': 0.08,\n",
       " 'administration': 0.04,\n",
       " 'starts': 0.04,\n",
       " '20': 0.04,\n",
       " 'January': 0.04}"
      ]
     },
     "execution_count": 21,
     "metadata": {},
     "output_type": "execute_result"
    }
   ],
   "source": [
    "word_frequencies"
   ]
  },
  {
   "cell_type": "code",
   "execution_count": 19,
   "metadata": {},
   "outputs": [],
   "source": [
    "sentence_list = [sentence for sentence in docx.sents]\n",
    "sentence_scores = {}  \n",
    "for sent in sentence_list:  \n",
    "    for word in sent:\n",
    "        if word.text.lower() in word_frequencies.keys():\n",
    "            if len(sent.text.split(' ')) < 30:\n",
    "                if sent not in sentence_scores.keys():\n",
    "                    sentence_scores[sent] = word_frequencies[word.text.lower()]\n",
    "                else:\n",
    "                    sentence_scores[sent] += word_frequencies[word.text.lower()]"
   ]
  },
  {
   "cell_type": "code",
   "execution_count": 29,
   "metadata": {},
   "outputs": [
    {
     "data": {
      "text/plain": [
       "{As the Trump White House reaches its final days, an eerie quiet has descended on the premises as attempts to challenge the election result founder in the courts.: 2.3200000000000003,\n",
       " Brian Morgenstern, the deputy communications director, was wearing a jacket with a White House emblem in his office in the West Wing.: 2.8800000000000003,\n",
       " The jacket was zipped all the way up, as if he were on his way out.: 1.84,\n",
       " The room, a few doors away from the Oval Office, was dark, with the shades drawn.: 3.8400000000000003,\n",
       " His boss, the president, was in another part of the White House.: 2.7600000000000002,\n",
       " \"This election was rigged and we can't let that happen,\" the president said on the phone.: 2.72,\n",
       " Morgenstern was monitoring the event on his computer screen, in a distracted manner.: 1.8,\n",
       " A moment later he swivelled in his chair and spoke to a visitor about college, real estate, baseball, and, almost as an afterthought, the president's achievements.: 6.24,\n",
       " Trump's effort to contest the election results in Pennsylvania failed on Friday, not long after the so-called hearing, and even that had a shaky legal foundation.: 3.4000000000000004,\n",
       " An appeals court judge said there was \"no basis\" for his challenge.: 1.4,\n",
       " A certification of ballots showed President-elect Joe Biden won the state by more than 80,000 votes.: 1.28,\n",
       " Being with Trump the day he lost the election: 0.28,\n",
       " The votes in Arizona were certified on Monday and in Wisconsin that could happen soon - both states Biden won.: 1.04,\n",
       " Government officials have started working towards a transition to the new administration, and the new president starts on 20 January.: 2.16}"
      ]
     },
     "execution_count": 29,
     "metadata": {},
     "output_type": "execute_result"
    }
   ],
   "source": [
    "sentence_scores"
   ]
  },
  {
   "cell_type": "code",
   "execution_count": 30,
   "metadata": {},
   "outputs": [
    {
     "data": {
      "text/plain": [
       "[A moment later he swivelled in his chair and spoke to a visitor about college, real estate, baseball, and, almost as an afterthought, the president's achievements.,\n",
       " The room, a few doors away from the Oval Office, was dark, with the shades drawn.,\n",
       " Trump's effort to contest the election results in Pennsylvania failed on Friday, not long after the so-called hearing, and even that had a shaky legal foundation.,\n",
       " Brian Morgenstern, the deputy communications director, was wearing a jacket with a White House emblem in his office in the West Wing.,\n",
       " His boss, the president, was in another part of the White House.,\n",
       " \"This election was rigged and we can't let that happen,\" the president said on the phone.,\n",
       " As the Trump White House reaches its final days, an eerie quiet has descended on the premises as attempts to challenge the election result founder in the courts.]"
      ]
     },
     "execution_count": 30,
     "metadata": {},
     "output_type": "execute_result"
    }
   ],
   "source": [
    "summarized_sentences = nlargest(7, sentence_scores, key=sentence_scores.get)\n",
    "summarized_sentences"
   ]
  },
  {
   "cell_type": "code",
   "execution_count": null,
   "metadata": {},
   "outputs": [],
   "source": []
  }
 ],
 "metadata": {
  "kernelspec": {
   "display_name": "Python 3",
   "language": "python",
   "name": "python3"
  },
  "language_info": {
   "codemirror_mode": {
    "name": "ipython",
    "version": 3
   },
   "file_extension": ".py",
   "mimetype": "text/x-python",
   "name": "python",
   "nbconvert_exporter": "python",
   "pygments_lexer": "ipython3",
   "version": "3.7.3"
  }
 },
 "nbformat": 4,
 "nbformat_minor": 4
}
